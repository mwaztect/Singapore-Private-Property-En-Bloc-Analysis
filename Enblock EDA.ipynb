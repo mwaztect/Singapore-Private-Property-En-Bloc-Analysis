{
 "cells": [
  {
   "cell_type": "code",
   "execution_count": 2,
   "id": "continued-puzzle",
   "metadata": {},
   "outputs": [],
   "source": [
    "import pandas as pd\n",
    "import numpy as np\n",
    "import seaborn as sns\n",
    "import matplotlib.pyplot as plt"
   ]
  },
  {
   "cell_type": "code",
   "execution_count": 3,
   "id": "electrical-cornell",
   "metadata": {},
   "outputs": [
    {
     "data": {
      "text/plain": [
       "(593, 7)"
      ]
     },
     "metadata": {},
     "output_type": "display_data"
    },
    {
     "data": {
      "text/html": [
       "<div>\n",
       "<style scoped>\n",
       "    .dataframe tbody tr th:only-of-type {\n",
       "        vertical-align: middle;\n",
       "    }\n",
       "\n",
       "    .dataframe tbody tr th {\n",
       "        vertical-align: top;\n",
       "    }\n",
       "\n",
       "    .dataframe thead th {\n",
       "        text-align: right;\n",
       "    }\n",
       "</style>\n",
       "<table border=\"1\" class=\"dataframe\">\n",
       "  <thead>\n",
       "    <tr style=\"text-align: right;\">\n",
       "      <th></th>\n",
       "      <th>Contract Date</th>\n",
       "      <th>Postal District</th>\n",
       "      <th>Project Name</th>\n",
       "      <th>Completion</th>\n",
       "      <th>Number of Units</th>\n",
       "      <th>Tenure</th>\n",
       "      <th>Transacted Price</th>\n",
       "    </tr>\n",
       "  </thead>\n",
       "  <tbody>\n",
       "    <tr>\n",
       "      <th>0</th>\n",
       "      <td>1995-12-06</td>\n",
       "      <td>11</td>\n",
       "      <td>ADAM GARDEN</td>\n",
       "      <td>-</td>\n",
       "      <td>10</td>\n",
       "      <td>Freehold</td>\n",
       "      <td>20010000</td>\n",
       "    </tr>\n",
       "    <tr>\n",
       "      <th>1</th>\n",
       "      <td>1995-12-06</td>\n",
       "      <td>10</td>\n",
       "      <td>N.A.</td>\n",
       "      <td>-</td>\n",
       "      <td>4</td>\n",
       "      <td>Freehold</td>\n",
       "      <td>36175200</td>\n",
       "    </tr>\n",
       "    <tr>\n",
       "      <th>2</th>\n",
       "      <td>1995-12-01</td>\n",
       "      <td>10</td>\n",
       "      <td>SHANGHAI RESIDENCES</td>\n",
       "      <td>-</td>\n",
       "      <td>5</td>\n",
       "      <td>Freehold</td>\n",
       "      <td>5475672</td>\n",
       "    </tr>\n",
       "    <tr>\n",
       "      <th>3</th>\n",
       "      <td>1995-11-13</td>\n",
       "      <td>19</td>\n",
       "      <td>N.A.</td>\n",
       "      <td>-</td>\n",
       "      <td>8</td>\n",
       "      <td>Freehold</td>\n",
       "      <td>8450000</td>\n",
       "    </tr>\n",
       "    <tr>\n",
       "      <th>4</th>\n",
       "      <td>1995-10-17</td>\n",
       "      <td>11</td>\n",
       "      <td>MOULMEIN LODGE</td>\n",
       "      <td>-</td>\n",
       "      <td>8</td>\n",
       "      <td>999 Yrs</td>\n",
       "      <td>14350000</td>\n",
       "    </tr>\n",
       "    <tr>\n",
       "      <th>...</th>\n",
       "      <td>...</td>\n",
       "      <td>...</td>\n",
       "      <td>...</td>\n",
       "      <td>...</td>\n",
       "      <td>...</td>\n",
       "      <td>...</td>\n",
       "      <td>...</td>\n",
       "    </tr>\n",
       "    <tr>\n",
       "      <th>95</th>\n",
       "      <td>2005-01-26</td>\n",
       "      <td>15</td>\n",
       "      <td>MARYLAND POINT</td>\n",
       "      <td>1981</td>\n",
       "      <td>17</td>\n",
       "      <td>Freehold</td>\n",
       "      <td>19715274</td>\n",
       "    </tr>\n",
       "    <tr>\n",
       "      <th>96</th>\n",
       "      <td>2005-01-26</td>\n",
       "      <td>15</td>\n",
       "      <td>MARYLAND POINT</td>\n",
       "      <td>-</td>\n",
       "      <td>144</td>\n",
       "      <td>Freehold</td>\n",
       "      <td>167000000</td>\n",
       "    </tr>\n",
       "    <tr>\n",
       "      <th>97</th>\n",
       "      <td>2005-01-25</td>\n",
       "      <td>12</td>\n",
       "      <td>ST MICHAEL'S COURT</td>\n",
       "      <td>-</td>\n",
       "      <td>30</td>\n",
       "      <td>Freehold</td>\n",
       "      <td>21620000</td>\n",
       "    </tr>\n",
       "    <tr>\n",
       "      <th>98</th>\n",
       "      <td>2005-01-07</td>\n",
       "      <td>7</td>\n",
       "      <td>ENG CHEONG TOWER</td>\n",
       "      <td>1975</td>\n",
       "      <td>49</td>\n",
       "      <td>99 Yrs From 01/06/1970</td>\n",
       "      <td>28861000</td>\n",
       "    </tr>\n",
       "    <tr>\n",
       "      <th>99</th>\n",
       "      <td>2005-01-07</td>\n",
       "      <td>10</td>\n",
       "      <td>ONE TREE LODGE</td>\n",
       "      <td>1991</td>\n",
       "      <td>30</td>\n",
       "      <td>Freehold</td>\n",
       "      <td>38200000</td>\n",
       "    </tr>\n",
       "  </tbody>\n",
       "</table>\n",
       "<p>100 rows × 7 columns</p>\n",
       "</div>"
      ],
      "text/plain": [
       "   Contract Date  Postal District         Project Name Completion  \\\n",
       "0     1995-12-06               11          ADAM GARDEN          -   \n",
       "1     1995-12-06               10                 N.A.          -   \n",
       "2     1995-12-01               10  SHANGHAI RESIDENCES          -   \n",
       "3     1995-11-13               19                 N.A.          -   \n",
       "4     1995-10-17               11       MOULMEIN LODGE          -   \n",
       "..           ...              ...                  ...        ...   \n",
       "95    2005-01-26               15       MARYLAND POINT       1981   \n",
       "96    2005-01-26               15       MARYLAND POINT          -   \n",
       "97    2005-01-25               12   ST MICHAEL'S COURT          -   \n",
       "98    2005-01-07                7     ENG CHEONG TOWER       1975   \n",
       "99    2005-01-07               10       ONE TREE LODGE       1991   \n",
       "\n",
       "    Number of Units                  Tenure  Transacted Price  \n",
       "0                10                Freehold          20010000  \n",
       "1                 4                Freehold          36175200  \n",
       "2                 5                Freehold           5475672  \n",
       "3                 8                Freehold           8450000  \n",
       "4                 8                 999 Yrs          14350000  \n",
       "..              ...                     ...               ...  \n",
       "95               17                Freehold          19715274  \n",
       "96              144                Freehold         167000000  \n",
       "97               30                Freehold          21620000  \n",
       "98               49  99 Yrs From 01/06/1970          28861000  \n",
       "99               30                Freehold          38200000  \n",
       "\n",
       "[100 rows x 7 columns]"
      ]
     },
     "execution_count": 3,
     "metadata": {},
     "output_type": "execute_result"
    }
   ],
   "source": [
    "df = pd.read_excel('enblock_list.xlsx',sheet_name='all')\n",
    "display(df.shape)\n",
    "df.head(100)"
   ]
  },
  {
   "cell_type": "code",
   "execution_count": 26,
   "id": "comparative-measure",
   "metadata": {},
   "outputs": [
    {
     "data": {
      "image/png": "[encoded data removed]",
      "text/plain": [
       "<Figure size 864x288 with 1 Axes>"
      ]
     },
     "metadata": {
      "needs_background": "light"
     },
     "output_type": "display_data"
    }
   ],
   "source": [
    "plt.figure(figsize=(12,4))\n",
    "ax=sns.countplot(x='Postal District', data=df)\n",
    "for p in ax.patches:\n",
    "    ax.annotate(p.get_height(), (p.get_x(), p.get_height()))\n",
    "plt.show()"
   ]
  },
  {
   "cell_type": "code",
   "execution_count": 27,
   "id": "unable-dining",
   "metadata": {},
   "outputs": [
    {
     "data": {
      "text/html": [
       "<div>\n",
       "<style scoped>\n",
       "    .dataframe tbody tr th:only-of-type {\n",
       "        vertical-align: middle;\n",
       "    }\n",
       "\n",
       "    .dataframe tbody tr th {\n",
       "        vertical-align: top;\n",
       "    }\n",
       "\n",
       "    .dataframe thead th {\n",
       "        text-align: right;\n",
       "    }\n",
       "</style>\n",
       "<table border=\"1\" class=\"dataframe\">\n",
       "  <thead>\n",
       "    <tr style=\"text-align: right;\">\n",
       "      <th></th>\n",
       "      <th>Contract Date</th>\n",
       "      <th>Postal District</th>\n",
       "      <th>Project Name</th>\n",
       "      <th>Completion</th>\n",
       "      <th>Number of Units</th>\n",
       "      <th>Tenure</th>\n",
       "      <th>Transacted Price</th>\n",
       "      <th>units</th>\n",
       "    </tr>\n",
       "  </thead>\n",
       "  <tbody>\n",
       "    <tr>\n",
       "      <th>528</th>\n",
       "      <td>2018-08-20</td>\n",
       "      <td>23</td>\n",
       "      <td>PHOENIX HEIGHTS</td>\n",
       "      <td>1980</td>\n",
       "      <td>32</td>\n",
       "      <td>99 Yrs From 01/01/1969</td>\n",
       "      <td>33100000</td>\n",
       "      <td>(0.383, 62.7]</td>\n",
       "    </tr>\n",
       "    <tr>\n",
       "      <th>575</th>\n",
       "      <td>2019-07-25</td>\n",
       "      <td>23</td>\n",
       "      <td>PHOENIX HEIGHTS</td>\n",
       "      <td>1980</td>\n",
       "      <td>36</td>\n",
       "      <td>99 Yrs From 01/01/1969</td>\n",
       "      <td>42600000</td>\n",
       "      <td>(0.383, 62.7]</td>\n",
       "    </tr>\n",
       "  </tbody>\n",
       "</table>\n",
       "</div>"
      ],
      "text/plain": [
       "    Contract Date  Postal District     Project Name Completion  \\\n",
       "528    2018-08-20               23  PHOENIX HEIGHTS       1980   \n",
       "575    2019-07-25               23  PHOENIX HEIGHTS       1980   \n",
       "\n",
       "     Number of Units                  Tenure  Transacted Price          units  \n",
       "528               32  99 Yrs From 01/01/1969          33100000  (0.383, 62.7]  \n",
       "575               36  99 Yrs From 01/01/1969          42600000  (0.383, 62.7]  "
      ]
     },
     "execution_count": 27,
     "metadata": {},
     "output_type": "execute_result"
    }
   ],
   "source": [
    "df[df['Postal District']==23]"
   ]
  },
  {
   "cell_type": "markdown",
   "id": "perfect-situation",
   "metadata": {},
   "source": [
    "### Inference: Cashew Heights in District 23, where only 2 shop houses en bloc, chances is low"
   ]
  },
  {
   "cell_type": "code",
   "execution_count": 25,
   "id": "approved-disposition",
   "metadata": {},
   "outputs": [
    {
     "data": {
      "image/png": "[encoded data removed]",
      "text/plain": [
       "<Figure size 864x288 with 1 Axes>"
      ]
     },
     "metadata": {
      "needs_background": "light"
     },
     "output_type": "display_data"
    }
   ],
   "source": [
    "df['units'] = pd.cut(df['Number of Units'].astype(int), bins=10)\n",
    "plt.figure(figsize=(12,4))\n",
    "ax=sns.countplot(x='units', data=df)\n",
    "for p in ax.patches:\n",
    "    ax.annotate(p.get_height(), (p.get_x(), p.get_height()))\n",
    "plt.show()"
   ]
  },
  {
   "cell_type": "code",
   "execution_count": 34,
   "id": "current-federation",
   "metadata": {},
   "outputs": [
    {
     "data": {
      "image/png": "[encoded data removed]",
      "text/plain": [
       "<Figure size 864x288 with 1 Axes>"
      ]
     },
     "metadata": {
      "needs_background": "light"
     },
     "output_type": "display_data"
    }
   ],
   "source": [
    "df['Lease_Type']=df['Tenure'].apply(lambda x: x.split(' ')[0])\n",
    "df['Lease_Type']=np.where()\n",
    "plt.figure(figsize=(12,4))\n",
    "ax=sns.countplot(x='Lease_Type', data=df)\n",
    "for p in ax.patches:\n",
    "    ax.annotate(p.get_height(), (p.get_x(), p.get_height()))\n",
    "plt.show()"
   ]
  },
  {
   "cell_type": "code",
   "execution_count": 61,
   "id": "guided-thailand",
   "metadata": {},
   "outputs": [
    {
     "data": {
      "image/png": "[encoded data removed]",
      "text/plain": [
       "<Figure size 864x288 with 1 Axes>"
      ]
     },
     "metadata": {
      "needs_background": "light"
     },
     "output_type": "display_data"
    }
   ],
   "source": [
    "df['Lease_Year'] = round((pd.to_datetime(df['Contract Date'], errors='coerse') - pd.to_datetime(df['Completion'].replace('-',np.nan), errors='ignore'))/np.timedelta64(1, 'Y'),1)\n",
    "df['Lease_Year_Bin'] = pd.cut(df['Lease_Year'],10)\n",
    "plt.figure(figsize=(12,4))\n",
    "ax=sns.countplot(x='Lease_Year_Bin', data=df)\n",
    "for p in ax.patches:\n",
    "    ax.annotate(p.get_height(), (p.get_x(), p.get_height()))\n",
    "plt.show()"
   ]
  },
  {
   "cell_type": "code",
   "execution_count": 65,
   "id": "geographic-chosen",
   "metadata": {},
   "outputs": [
    {
     "data": {
      "image/png": "[encoded data removed]",
      "text/plain": [
       "<Figure size 864x288 with 1 Axes>"
      ]
     },
     "metadata": {
      "needs_background": "light"
     },
     "output_type": "display_data"
    }
   ],
   "source": [
    "df['Lease_Year2'] = round((pd.to_datetime(df['Contract Date'], errors='coerse') - pd.to_datetime(df['Tenure'].apply(lambda x: x.split(' ')[-1]).replace({'Freehold':np.nan,'N.A.':np.nan,'Yrs':np.nan}), errors='ignore'))/np.timedelta64(1, 'Y'),1)\n",
    "df['Lease_Year2_Bin'] = pd.cut(df['Lease_Year2'],10)\n",
    "plt.figure(figsize=(12,4))\n",
    "ax=sns.countplot(x='Lease_Year2_Bin', data=df)\n",
    "for p in ax.patches:\n",
    "    ax.annotate(p.get_height(), (p.get_x(), p.get_height()))\n",
    "plt.show()"
   ]
  },
  {
   "cell_type": "code",
   "execution_count": null,
   "id": "frozen-print",
   "metadata": {},
   "outputs": [],
   "source": []
  }
 ],
 "metadata": {
  "kernelspec": {
   "display_name": "Python 3",
   "language": "python",
   "name": "python3"
  },
  "language_info": {
   "codemirror_mode": {
    "name": "ipython",
    "version": 3
   },
   "file_extension": ".py",
   "mimetype": "text/x-python",
   "name": "python",
   "nbconvert_exporter": "python",
   "pygments_lexer": "ipython3",
   "version": "3.8.7"
  }
 },
 "nbformat": 4,
 "nbformat_minor": 5
}
